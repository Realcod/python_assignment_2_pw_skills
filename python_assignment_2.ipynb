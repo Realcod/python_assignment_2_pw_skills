{
 "cells": [
  {
   "cell_type": "code",
   "execution_count": null,
   "id": "af5d4786-9742-40c3-80d8-7e1b4805f4c6",
   "metadata": {},
   "outputs": [],
   "source": [
    "#q1) Discuss string slicing and provide examples\n",
    "\n",
    "\n",
    "#String Slicing \n",
    "#String slicing in Python is a way to extract a portion or substring of a string. \n",
    "#This is done using the slice notation, which allows you to specify the start, stop, and step values."
   ]
  },
  {
   "cell_type": "code",
   "execution_count": 1,
   "id": "3d4d3017-1902-4e32-bdc9-793e9304b5a7",
   "metadata": {},
   "outputs": [],
   "source": [
    "#Slicing Syntax\n",
    "\n",
    "#str[start:end:step]\n",
    "\n",
    "#start: The starting index of the substring (inclusive). If omitted, it defaults to 0.\n",
    "#stop: The ending index of the substring (exclusive). If omitted, it defaults to the length of the string.\n",
    "#step: The step size or interval between indices. If omitted, it defaults to 1.\n"
   ]
  },
  {
   "cell_type": "code",
   "execution_count": 2,
   "id": "27b96e20-ea91-4952-b536-e0337e3e3aa4",
   "metadata": {},
   "outputs": [
    {
     "data": {
      "text/plain": [
       "'Y'"
      ]
     },
     "execution_count": 2,
     "metadata": {},
     "output_type": "execute_result"
    }
   ],
   "source": [
    "str=\"Yash\"\n",
    "str[0]"
   ]
  },
  {
   "cell_type": "code",
   "execution_count": 3,
   "id": "27376f19-0423-4ba2-9c8d-226cbffc9a79",
   "metadata": {},
   "outputs": [
    {
     "data": {
      "text/plain": [
       "'s'"
      ]
     },
     "execution_count": 3,
     "metadata": {},
     "output_type": "execute_result"
    }
   ],
   "source": [
    "str[2]"
   ]
  },
  {
   "cell_type": "code",
   "execution_count": 4,
   "id": "ed511893-c4ec-4e86-b3f4-d6963afd65f9",
   "metadata": {},
   "outputs": [
    {
     "data": {
      "text/plain": [
       "'Yas'"
      ]
     },
     "execution_count": 4,
     "metadata": {},
     "output_type": "execute_result"
    }
   ],
   "source": [
    "str[0:3]"
   ]
  },
  {
   "cell_type": "code",
   "execution_count": 5,
   "id": "9fc030f0-ba40-4166-9b6c-a6cfdfcc4fe5",
   "metadata": {},
   "outputs": [
    {
     "data": {
      "text/plain": [
       "'sh'"
      ]
     },
     "execution_count": 5,
     "metadata": {},
     "output_type": "execute_result"
    }
   ],
   "source": [
    "str[2:]"
   ]
  },
  {
   "cell_type": "code",
   "execution_count": 6,
   "id": "bb13b576-57ec-42e7-99a1-b0efe7e2458f",
   "metadata": {},
   "outputs": [
    {
     "data": {
      "text/plain": [
       "'Ys'"
      ]
     },
     "execution_count": 6,
     "metadata": {},
     "output_type": "execute_result"
    }
   ],
   "source": [
    "str[-1]"
   ]
  },
  {
   "cell_type": "code",
   "execution_count": 7,
   "id": "e46a5953-14ec-423d-ae62-4c7391e57c69",
   "metadata": {},
   "outputs": [
    {
     "data": {
      "text/plain": [
       "'Y'"
      ]
     },
     "execution_count": 7,
     "metadata": {},
     "output_type": "execute_result"
    }
   ],
   "source": [
    "str[:-3]"
   ]
  },
  {
   "cell_type": "code",
   "execution_count": 8,
   "id": "0fe2b01f-0398-4eca-ba88-a6f56cb7d10a",
   "metadata": {},
   "outputs": [
    {
     "data": {
      "text/plain": [
       "'Ys'"
      ]
     },
     "execution_count": 8,
     "metadata": {},
     "output_type": "execute_result"
    }
   ],
   "source": [
    "str[0:4:2]"
   ]
  },
  {
   "cell_type": "code",
   "execution_count": 9,
   "id": "baf9b813-3fb8-403c-b2ff-c322f6615703",
   "metadata": {},
   "outputs": [
    {
     "data": {
      "text/plain": [
       "'Ys'"
      ]
     },
     "execution_count": 9,
     "metadata": {},
     "output_type": "execute_result"
    }
   ],
   "source": [
    "str[::2]"
   ]
  },
  {
   "cell_type": "code",
   "execution_count": 10,
   "id": "b3e78e8b-9f4b-4d67-94eb-92d443ad655f",
   "metadata": {},
   "outputs": [],
   "source": [
    "#Q2)  Explain the key features of lists in Python?"
   ]
  },
  {
   "cell_type": "code",
   "execution_count": 11,
   "id": "74e9c610-1bba-40fb-b758-86592dfe74c9",
   "metadata": {},
   "outputs": [
    {
     "name": "stdout",
     "output_type": "stream",
     "text": [
      "apple\n"
     ]
    }
   ],
   "source": [
    "#1) Lists maintain the order of elements. The order in which you add elements is the order in which they are stored and accessed.\n",
    "fruits = ['apple', 'banana', 'cherry']\n",
    "print(fruits[0])"
   ]
  },
  {
   "cell_type": "code",
   "execution_count": 12,
   "id": "67843428-4aaa-433a-ab84-76226ec2c0bf",
   "metadata": {},
   "outputs": [
    {
     "name": "stdout",
     "output_type": "stream",
     "text": [
      "['apple', 'blueberry', 'cherry']\n"
     ]
    }
   ],
   "source": [
    "#2) Lists are mutable, meaning that you can change their contents after they are created. You can add, remove, or modify elements.\n",
    "fruits = ['apple', 'banana', 'cherry']\n",
    "fruits[1] = 'blueberry'\n",
    "print(fruits)"
   ]
  },
  {
   "cell_type": "code",
   "execution_count": 13,
   "id": "a47bccf6-1548-4668-89a4-73abc6bc877f",
   "metadata": {},
   "outputs": [
    {
     "name": "stdout",
     "output_type": "stream",
     "text": [
      "['apple', 'banana', 'cherry']\n",
      "['apple', 'cherry']\n"
     ]
    }
   ],
   "source": [
    "#3 Lists can grow and shrink in size as needed. You can add or remove elements at any time.\n",
    "fruits = ['apple', 'banana']\n",
    "fruits.append('cherry')\n",
    "print(fruits)\n",
    "\n",
    "fruits.pop(1)  # Removes 'banana'\n",
    "print(fruits)"
   ]
  },
  {
   "cell_type": "code",
   "execution_count": 14,
   "id": "c19f7680-55f8-4896-902f-2185f4b69925",
   "metadata": {},
   "outputs": [
    {
     "name": "stdout",
     "output_type": "stream",
     "text": [
      "[1, 'apple', 3.14, [2, 4, 6]]\n"
     ]
    }
   ],
   "source": [
    "#4 Lists can contain elements of different data types, including integers, strings, floats, and even other lists.\n",
    "mixed_list = [1, 'apple', 3.14, [2, 4, 6]]\n",
    "print(mixed_list)"
   ]
  },
  {
   "cell_type": "code",
   "execution_count": 16,
   "id": "ebf41549-38e1-418c-9d1f-0b427fc00a3a",
   "metadata": {},
   "outputs": [],
   "source": [
    "#Q3) Describe how to access modify and delete elements in a list with examples?\n"
   ]
  },
  {
   "cell_type": "code",
   "execution_count": 18,
   "id": "039c7054-bd79-406a-9363-5b138e741658",
   "metadata": {},
   "outputs": [],
   "source": [
    "# 1. Accessing Elements in a List\n",
    "#You can access elements in a list using their index. \n",
    "\n",
    "fruits = ['apple', 'banana', 'cherry', 'date']\n",
    "\n",
    "first_fruit = fruits[0]     \n"
   ]
  },
  {
   "cell_type": "code",
   "execution_count": 19,
   "id": "6a6c5c0f-3fe3-404c-9e74-bc9c63c50b4e",
   "metadata": {},
   "outputs": [],
   "source": [
    "second_fruit = fruits[1]     "
   ]
  },
  {
   "cell_type": "code",
   "execution_count": 20,
   "id": "09bdb94b-89a6-43c7-9f96-461b17c613a5",
   "metadata": {},
   "outputs": [],
   "source": [
    "last_fruit = fruits[-1]      \n",
    "\n",
    "slice_fruits = fruits[1:3]  "
   ]
  },
  {
   "cell_type": "code",
   "execution_count": 21,
   "id": "8881b3eb-1592-4ec8-9d6d-04845125cfd7",
   "metadata": {},
   "outputs": [
    {
     "name": "stdout",
     "output_type": "stream",
     "text": [
      "['apple', 'blueberry', 'cherry', 'date']\n"
     ]
    }
   ],
   "source": [
    "#2) Modifying Elements in a List\n",
    "# Lists in Python are mutable, meaning you can change their elements after they are created. \n",
    "\n",
    "fruits = ['apple', 'banana', 'cherry', 'date']\n",
    "\n",
    "fruits[1] = 'blueberry'\n",
    "print(fruits) \n"
   ]
  },
  {
   "cell_type": "code",
   "execution_count": 22,
   "id": "c65d1b3a-3355-4eaa-a7c1-e5a17804f1a4",
   "metadata": {},
   "outputs": [
    {
     "name": "stdout",
     "output_type": "stream",
     "text": [
      "['apricot', 'blackberry', 'cherry', 'date']\n"
     ]
    }
   ],
   "source": [
    "\n",
    "fruits[0:2] = ['apricot', 'blackberry']\n",
    "print(fruits)  "
   ]
  },
  {
   "cell_type": "code",
   "execution_count": 23,
   "id": "dbb7c2c8-800b-4d58-ba5f-df1a4d6a1da0",
   "metadata": {},
   "outputs": [
    {
     "name": "stdout",
     "output_type": "stream",
     "text": [
      "['apple', 'cherry', 'date']\n"
     ]
    }
   ],
   "source": [
    "#3) You can delete elements from a list using the del statement, the remove() method, the pop() method, or by assigning an empty list to a slice.\n",
    "fruits = ['apple', 'banana', 'cherry', 'date']\n",
    "\n",
    "del fruits[1]\n",
    "print(fruits) "
   ]
  },
  {
   "cell_type": "code",
   "execution_count": 24,
   "id": "66c69822-6283-443a-8423-c531025ea566",
   "metadata": {},
   "outputs": [
    {
     "name": "stdout",
     "output_type": "stream",
     "text": [
      "['apple', 'cherry', 'banana']\n"
     ]
    }
   ],
   "source": [
    "fruits = ['apple', 'banana', 'cherry', 'banana']\n",
    "\n",
    "fruits.remove('banana')\n",
    "print(fruits)"
   ]
  },
  {
   "cell_type": "code",
   "execution_count": 25,
   "id": "440fdd68-1e18-4013-9c3c-ed4592a1861e",
   "metadata": {},
   "outputs": [
    {
     "name": "stdout",
     "output_type": "stream",
     "text": [
      "cherry\n",
      "['apple', 'banana', 'date']\n"
     ]
    }
   ],
   "source": [
    "fruits = ['apple', 'banana', 'cherry', 'date']\n",
    "\n",
    "popped_fruit = fruits.pop(2)\n",
    "print(popped_fruit)  \n",
    "print(fruits)  "
   ]
  },
  {
   "cell_type": "code",
   "execution_count": 26,
   "id": "508042c9-032a-4d53-a925-6f1351760e51",
   "metadata": {},
   "outputs": [],
   "source": [
    "#Q4) Compare and contrast tuples and lists with examples?\n"
   ]
  },
  {
   "cell_type": "code",
   "execution_count": 27,
   "id": "63d6ccd1-7234-4456-9267-4a56715a6e76",
   "metadata": {},
   "outputs": [],
   "source": [
    "# 1. Mutability\n",
    "# List: Lists are mutable, meaning you can modify their content after creation. \n",
    "# Tuple: Tuples are immutable, meaning once they are created, their content cannot be changed. "
   ]
  },
  {
   "cell_type": "code",
   "execution_count": 28,
   "id": "43be0325-8f13-4f68-b543-a9e9428c432b",
   "metadata": {},
   "outputs": [
    {
     "name": "stdout",
     "output_type": "stream",
     "text": [
      "['apple', 'blueberry', 'cherry']\n"
     ]
    }
   ],
   "source": [
    "fruits = ['apple', 'banana', 'cherry']\n",
    "fruits[1] = 'blueberry'  \n",
    "print(fruits)"
   ]
  },
  {
   "cell_type": "code",
   "execution_count": 29,
   "id": "eb26eac1-b66d-4ebc-b3fb-e227179b3a11",
   "metadata": {},
   "outputs": [
    {
     "ename": "TypeError",
     "evalue": "'tuple' object does not support item assignment",
     "output_type": "error",
     "traceback": [
      "\u001b[0;31m---------------------------------------------------------------------------\u001b[0m",
      "\u001b[0;31mTypeError\u001b[0m                                 Traceback (most recent call last)",
      "Cell \u001b[0;32mIn[29], line 2\u001b[0m\n\u001b[1;32m      1\u001b[0m fruits_tuple \u001b[38;5;241m=\u001b[39m (\u001b[38;5;124m'\u001b[39m\u001b[38;5;124mapple\u001b[39m\u001b[38;5;124m'\u001b[39m, \u001b[38;5;124m'\u001b[39m\u001b[38;5;124mbanana\u001b[39m\u001b[38;5;124m'\u001b[39m, \u001b[38;5;124m'\u001b[39m\u001b[38;5;124mcherry\u001b[39m\u001b[38;5;124m'\u001b[39m)\n\u001b[0;32m----> 2\u001b[0m \u001b[43mfruits_tuple\u001b[49m\u001b[43m[\u001b[49m\u001b[38;5;241;43m1\u001b[39;49m\u001b[43m]\u001b[49m \u001b[38;5;241m=\u001b[39m \u001b[38;5;124m'\u001b[39m\u001b[38;5;124mblueberry\u001b[39m\u001b[38;5;124m'\u001b[39m\n",
      "\u001b[0;31mTypeError\u001b[0m: 'tuple' object does not support item assignment"
     ]
    }
   ],
   "source": [
    "fruits_tuple = ('apple', 'banana', 'cherry')\n",
    "fruits_tuple[1] = 'blueberry'"
   ]
  },
  {
   "cell_type": "code",
   "execution_count": 30,
   "id": "b2850220-c187-4872-ae96-8eb0ff662b94",
   "metadata": {},
   "outputs": [],
   "source": [
    "# 2. Syntax\n",
    " # List: Lists are defined using square brackets [].\n",
    "# Tuple: Tuples are defined using parentheses ()\n",
    "\n",
    "fruits = ['apple', 'banana', 'cherry']\n",
    "\n",
    "fruits_tuple = ('apple', 'banana', 'cherry')\n"
   ]
  },
  {
   "cell_type": "code",
   "execution_count": 31,
   "id": "069b469f-00b6-4937-9ff2-a7b25658d29a",
   "metadata": {},
   "outputs": [],
   "source": [
    "#Q5) Describe the key features of sets and provide examples of their uses?\n"
   ]
  },
  {
   "cell_type": "code",
   "execution_count": 32,
   "id": "f80c911e-e4d4-47c5-afb0-3ffbb510ad44",
   "metadata": {},
   "outputs": [
    {
     "name": "stdout",
     "output_type": "stream",
     "text": [
      "{1, 2, 3}\n"
     ]
    }
   ],
   "source": [
    "#1) Unordered Collection:\n",
    "my_set = {3, 1, 2}\n",
    "print(my_set)"
   ]
  },
  {
   "cell_type": "code",
   "execution_count": 33,
   "id": "ecb331ea-8dc2-41f0-a967-a224e53f93a2",
   "metadata": {},
   "outputs": [
    {
     "name": "stdout",
     "output_type": "stream",
     "text": [
      "{1, 2, 3, 4}\n"
     ]
    }
   ],
   "source": [
    "#2) No Duplicate Elements:\n",
    "my_set = {1, 2, 2, 3, 4, 4}\n",
    "print(my_set)"
   ]
  },
  {
   "cell_type": "code",
   "execution_count": 34,
   "id": "40851732-0e5c-4a9e-99c0-76ea7a22a6e7",
   "metadata": {},
   "outputs": [],
   "source": [
    "#3) Mutable:\n",
    "my_set = {1, 2, 3}\n",
    "my_set.add(4)"
   ]
  },
  {
   "cell_type": "code",
   "execution_count": 35,
   "id": "0a18aa16-e4bc-49be-b62b-3503f1acab2d",
   "metadata": {},
   "outputs": [
    {
     "name": "stdout",
     "output_type": "stream",
     "text": [
      "{1, 3.14, 'apple'}\n"
     ]
    }
   ],
   "source": [
    "#4) Heterogeneous Elements\n",
    "my_set = {1, \"apple\", 3.14}\n",
    "print(my_set)"
   ]
  },
  {
   "cell_type": "code",
   "execution_count": 37,
   "id": "ce269743-dc9f-4706-b524-5f9bbab9bdd6",
   "metadata": {},
   "outputs": [
    {
     "name": "stdout",
     "output_type": "stream",
     "text": [
      "{1, 2, 3, 4, 5}\n"
     ]
    }
   ],
   "source": [
    "set_a = {1, 2, 3}\n",
    "set_b = {3, 4, 5}\n",
    "\n",
    "union_set = set_a | set_b   \n",
    "print(union_set)"
   ]
  },
  {
   "cell_type": "code",
   "execution_count": 38,
   "id": "063cb65a-ce4f-4fae-a4f8-9d62c2061f27",
   "metadata": {},
   "outputs": [
    {
     "name": "stdout",
     "output_type": "stream",
     "text": [
      "{3}\n"
     ]
    }
   ],
   "source": [
    "intersection_set = set_a & set_b      \n",
    "print(intersection_set)"
   ]
  },
  {
   "cell_type": "code",
   "execution_count": 39,
   "id": "170b2739-f8bc-4bb6-9f44-85146e905fc2",
   "metadata": {},
   "outputs": [
    {
     "name": "stdout",
     "output_type": "stream",
     "text": [
      "{1, 2}\n",
      "{1, 2, 4, 5}\n"
     ]
    }
   ],
   "source": [
    "difference_set = set_a - set_b    \n",
    "print(difference_set)\n",
    "symmetric_diff_set = set_a ^ set_b \n",
    "print(symmetric_diff_set)"
   ]
  },
  {
   "cell_type": "code",
   "execution_count": 40,
   "id": "f5a7749f-1e6b-4200-a84f-04a11a61d02a",
   "metadata": {},
   "outputs": [],
   "source": [
    "#Q6)  Discuss the use cases of tuples and sets in Python programming?"
   ]
  },
  {
   "cell_type": "code",
   "execution_count": 41,
   "id": "425b80b1-9706-456e-a78a-cb7b6adecc83",
   "metadata": {},
   "outputs": [],
   "source": [
    "#use cases of Tuples\n",
    "\n",
    "#Fixed Data Structures:\n",
    "\n",
    "point = (10.0, 20.0)\n"
   ]
  },
  {
   "cell_type": "code",
   "execution_count": 42,
   "id": "be7cb5ab-e319-4788-8e1b-aab491c87d50",
   "metadata": {},
   "outputs": [
    {
     "name": "stdout",
     "output_type": "stream",
     "text": [
      "Alice\n",
      "30\n"
     ]
    }
   ],
   "source": [
    "#2) Return Multiple Values from Functions\n",
    "def get_name_and_age():\n",
    "    return (\"Alice\", 30)\n",
    "\n",
    "name, age = get_name_and_age()\n",
    "print(name)  \n",
    "print(age)"
   ]
  },
  {
   "cell_type": "code",
   "execution_count": 43,
   "id": "277fd4a9-c94f-46bc-b3a4-3a3cfd0de69a",
   "metadata": {},
   "outputs": [
    {
     "name": "stdout",
     "output_type": "stream",
     "text": [
      "(12345, 'John Doe', '1980-01-01')\n"
     ]
    }
   ],
   "source": [
    "#3) Data Integrity: Ensuring Consistency\n",
    "#4) Heterogeneous Data\n",
    "person = (12345, \"John Doe\", \"1980-01-01\")\n",
    "print(person)"
   ]
  },
  {
   "cell_type": "code",
   "execution_count": 44,
   "id": "c6ccd211-1bc3-4ac1-a842-5a77b34c0255",
   "metadata": {},
   "outputs": [
    {
     "name": "stdout",
     "output_type": "stream",
     "text": [
      "{'alice@example.com', 'bob@example.com'}\n"
     ]
    }
   ],
   "source": [
    "#)  use cases of sets\n",
    "\n",
    "#1) Unique Elements: keeping track of unique visitors to a website or ensuring that a list of email addresses contains no duplicates.\n",
    "emails = {\"alice@example.com\", \"bob@example.com\", \"alice@example.com\"}\n",
    "print(emails)\n"
   ]
  },
  {
   "cell_type": "code",
   "execution_count": 45,
   "id": "16abb5d1-0abd-41df-91cd-01eada8accad",
   "metadata": {},
   "outputs": [
    {
     "name": "stdout",
     "output_type": "stream",
     "text": [
      "Found stopword!\n"
     ]
    }
   ],
   "source": [
    "#2) Membership Testing: Sets provide an efficient way to check if an element is in the collection, making them perfect for membership testing. \n",
    "stopwords = {\"and\", \"or\", \"but\", \"not\"}\n",
    "if \"and\" in stopwords:\n",
    "    print(\"Found stopword!\")"
   ]
  },
  {
   "cell_type": "code",
   "execution_count": 46,
   "id": "04f990d2-a08a-4868-8efb-05f456b567cd",
   "metadata": {},
   "outputs": [
    {
     "name": "stdout",
     "output_type": "stream",
     "text": [
      "[1, 2, 3, 4, 5]\n"
     ]
    }
   ],
   "source": [
    "#3) Mathematical Set Operations : Union, Intersecction,Set Difference etc...\n",
    "#4) Eliminating Duplicates\n",
    "numbers = [1, 2, 2, 3, 4, 4, 5]\n",
    "unique_numbers = list(set(numbers))\n",
    "print(unique_numbers)"
   ]
  },
  {
   "cell_type": "code",
   "execution_count": 47,
   "id": "a2e6d50d-dd50-40d0-93b7-af27140f59c3",
   "metadata": {},
   "outputs": [
    {
     "name": "stdout",
     "output_type": "stream",
     "text": [
      "{'name': 'Yash', 'age': 25, 'grade': 'A+'}\n"
     ]
    }
   ],
   "source": [
    "#Q7) Describe how to add modify and delete Items in a dictionary with examples?\n",
    "#Adding Items to a Dictionary\n",
    "\n",
    "student = {}\n",
    "\n",
    "student[\"name\"] = \"Yash\"\n",
    "student[\"age\"] = 25\n",
    "student[\"grade\"] = \"A+\"\n",
    "\n",
    "print(student)"
   ]
  },
  {
   "cell_type": "code",
   "execution_count": 48,
   "id": "ed3bc563-39ab-46f0-8d13-3e327d490da4",
   "metadata": {},
   "outputs": [
    {
     "name": "stdout",
     "output_type": "stream",
     "text": [
      "{'name': 'Alice', 'age': 25, 'grade': 'A'}\n"
     ]
    }
   ],
   "source": [
    "student = {\"name\": \"Alice\"}\n",
    "\n",
    "# Adding multiple items using update()\n",
    "student.update({\"age\": 25, \"grade\": \"A\"})\n",
    "\n",
    "print(student)"
   ]
  },
  {
   "cell_type": "code",
   "execution_count": 49,
   "id": "e17d319c-9b2e-4020-8cef-29d3d42c3414",
   "metadata": {},
   "outputs": [
    {
     "name": "stdout",
     "output_type": "stream",
     "text": [
      "{'name': 'Alice', 'age': 26, 'grade': 'A'}\n"
     ]
    }
   ],
   "source": [
    "#2) Modifying Items in a Dictionary\n",
    "student = {\"name\": \"Yash\", \"age\": 25, \"grade\": \"A\"}\n",
    "\n",
    "\n",
    "student[\"age\"] = 26\n",
    "\n",
    "print(student)\n"
   ]
  },
  {
   "cell_type": "code",
   "execution_count": 50,
   "id": "dfc2ad2d-184e-480a-9e31-fdc63e40cc3e",
   "metadata": {},
   "outputs": [
    {
     "name": "stdout",
     "output_type": "stream",
     "text": [
      "{'name': 'Yash', 'age': 26, 'grade': 'A+'}\n"
     ]
    }
   ],
   "source": [
    "student = {\"name\": \"Yash\", \"age\": 25, \"grade\": \"A\"}\n",
    "\n",
    "student.update({\"age\": 26, \"grade\": \"A+\"})\n",
    "\n",
    "print(student)"
   ]
  },
  {
   "cell_type": "code",
   "execution_count": 51,
   "id": "beeee08f-1552-4d0a-9013-8543cce59c7f",
   "metadata": {},
   "outputs": [
    {
     "name": "stdout",
     "output_type": "stream",
     "text": [
      "{'name': 'Alice', 'grade': 'A'}\n"
     ]
    }
   ],
   "source": [
    "#3) Deleting Items from a Dictionary\n",
    "student = {\"name\": \"Alice\", \"age\": 25, \"grade\": \"A\"}\n",
    "\n",
    "del student[\"age\"]\n",
    "\n",
    "print(student)"
   ]
  },
  {
   "cell_type": "code",
   "execution_count": 52,
   "id": "d8a63ef7-386d-461c-a186-d666fbf810e5",
   "metadata": {},
   "outputs": [
    {
     "name": "stdout",
     "output_type": "stream",
     "text": [
      "{'name': 'Alice', 'grade': 'A'}\n"
     ]
    }
   ],
   "source": [
    "student = {\"name\": \"Alice\", \"age\": 25, \"grade\": \"A\"}\n",
    "\n",
    "age = student.pop(\"age\")\n",
    "\n",
    "print(student)"
   ]
  },
  {
   "cell_type": "code",
   "execution_count": 53,
   "id": "cbf3d042-f270-45ce-b659-972bb46fbc73",
   "metadata": {},
   "outputs": [],
   "source": [
    "#Q8)  Discuss the importance of dictionary keys being immutable and provide example\n",
    "\n",
    "#Hashing and Consistency:Hash Function: Dictionaries in Python are implemented as hash tables. When you use a key to access a value in a dictionary,\n",
    "#Python computes the hash of the key using a hash function. \n",
    "\n",
    "#Consistency: For the hash function to work correctly, the key's value must remain consistent throughout the dictionary's lifetime. \n",
    "\n",
    "#Efficiency: Immutable keys allow dictionaries to have fast lookups, insertions, and deletions. \n",
    "\n",
    "#The immutability of keys ensures that the hash value is constant, allowing quick access to data.\n",
    "\n",
    "#Predictability: Since immutable objects (like strings, numbers, and tuples) do not change, \n",
    "#they provide a predictable and stable hash value, which is critical for maintaining the efficiency of dictionary operations.\n",
    "\n",
    "#Safety and Data Integrity: Avoiding Errors: If mutable objects (like lists or other dictionaries) were allowed as keys, it would be easy to introduce bugs by inadvertently changing a key. This could lead to difficult-to-debug errors, as the dictionary would no longer be able to find the modified key.\n",
    "#Data Integrity: By requiring keys to be immutable, Python ensures that dictionary data remains consistent and prevents accidental modifications that could corrupt the data structure."
   ]
  },
  {
   "cell_type": "code",
   "execution_count": 54,
   "id": "5d1f327d-81ba-4628-8422-678c5764ac8f",
   "metadata": {},
   "outputs": [
    {
     "name": "stdout",
     "output_type": "stream",
     "text": [
      "unhashable type: 'dict'\n"
     ]
    }
   ],
   "source": [
    "# Attempting to use a dictionary as a key (will raise a TypeError)\n",
    "try:\n",
    "    my_dict = {{'key': 'value'}: \"another value\"}\n",
    "except TypeError as e:\n",
    "    print(e) \n"
   ]
  },
  {
   "cell_type": "code",
   "execution_count": null,
   "id": "d95712b4-d839-4447-bb85-f0aa5f208510",
   "metadata": {},
   "outputs": [],
   "source": [
    "# Dictionary with tuple keys\n",
    "point = {(0, 0): \"Origin\", (1, 1): \"Point A\"}\n",
    "print(point[(0, 0)]) \n"
   ]
  }
 ],
 "metadata": {
  "kernelspec": {
   "display_name": "Python 3 (ipykernel)",
   "language": "python",
   "name": "python3"
  },
  "language_info": {
   "codemirror_mode": {
    "name": "ipython",
    "version": 3
   },
   "file_extension": ".py",
   "mimetype": "text/x-python",
   "name": "python",
   "nbconvert_exporter": "python",
   "pygments_lexer": "ipython3",
   "version": "3.10.8"
  }
 },
 "nbformat": 4,
 "nbformat_minor": 5
}
